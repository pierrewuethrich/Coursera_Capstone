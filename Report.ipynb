{
 "cells": [
  {
   "cell_type": "markdown",
   "metadata": {},
   "source": [
    "# Introduction"
   ]
  },
  {
   "cell_type": "markdown",
   "metadata": {},
   "source": [
    "Let's assume that we got contacted by a client that wants to open a new coffee shop in the city of Tokyo. For that purpose, the client has asked us to explore the coffe-shop market in the area of Tokyo, hoping to better understand the current situation of coffee shops in this metropole. Knowing where coffee shops are located (and clustered) and what people liked most about them will give our client a valuable insights which will help them guide their decision making process (e.g. whether they have the ability to open a cafe and if so where). "
   ]
  },
  {
   "cell_type": "markdown",
   "metadata": {},
   "source": [
    "Since Tokyo is a huge Metropole, I restricted the area of the cafes to be within central Tokyo (mainly the districts of Bunkyo-ku, Taito-ku, Chiyoda-ku, and Sumida-ku). These restrictions might change later on depending on the data-availability. "
   ]
  },
  {
   "cell_type": "markdown",
   "metadata": {},
   "source": [
    "# Data"
   ]
  },
  {
   "cell_type": "markdown",
   "metadata": {},
   "source": [
    "I will use Fousquare and the Foursquare API to get premium data on different venues. For our purposes, I will use the availble regular points to first cluster caffees on the map of Tokyo. Once the clustering is completed, we will pick out one cluster which looks interesting and use the premium points of the Foursquare API to get in-depth information on the venues within this cluster to understand what makes them similar/different to each other. "
   ]
  },
  {
   "cell_type": "code",
   "execution_count": null,
   "metadata": {},
   "outputs": [],
   "source": []
  }
 ],
 "metadata": {
  "kernelspec": {
   "display_name": "Python 3",
   "language": "python",
   "name": "python3"
  },
  "language_info": {
   "codemirror_mode": {
    "name": "ipython",
    "version": 3
   },
   "file_extension": ".py",
   "mimetype": "text/x-python",
   "name": "python",
   "nbconvert_exporter": "python",
   "pygments_lexer": "ipython3",
   "version": "3.7.5"
  }
 },
 "nbformat": 4,
 "nbformat_minor": 2
}
