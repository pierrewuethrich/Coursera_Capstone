{
 "cells": [
  {
   "cell_type": "markdown",
   "metadata": {},
   "source": [
    "# Capstone-project \"Battle of the 'coffee'-neighborhoods\""
   ]
  },
  {
   "cell_type": "markdown",
   "metadata": {},
   "source": [
    "![Photo by Tyler Nix on Unsplash](./figures/tyler-nix-KgziKKUyJVA-unsplash.jpg \"Photo by Tyler Nix on Unsplash\")\n",
    "*Photo by Tyler Nix on Unsplash*"
   ]
  },
  {
   "cell_type": "markdown",
   "metadata": {},
   "source": [
    "## Introduction"
   ]
  },
  {
   "cell_type": "markdown",
   "metadata": {},
   "source": [
    "Let's assume that we got contacted by a client that wants to open a new coffee shop in the city of Tokyo. For that purpose, the client has asked us to explore the coffe-shop market in the area of Tokyo, hoping to better understand the current situation of coffee shops in this metropole. Knowing where coffee shops are located (and clustered) and what people liked most about them will give our client a valuable insights which will help them guide their decision making process (e.g. whether they have the ability to open a cafe and if so where). "
   ]
  },
  {
   "cell_type": "markdown",
   "metadata": {},
   "source": [
    "Since Tokyo is a comparitively big Metropole in size and population, I restricted the area of the cafes to be within central Tokyo (mainly the districts of Bunkyo, Shibuya, Shinjuku, Taito, Chiyoda, Meguro)."
   ]
  },
  {
   "cell_type": "markdown",
   "metadata": {},
   "source": [
    "Interested stakeholders in this type of analysis could be:\n",
    "- Coffee shop owners\n",
    "- People trying to understand the coffee-shop market in Tokyo\n",
    "- People trying to find new interesting coffee shops"
   ]
  },
  {
   "cell_type": "markdown",
   "metadata": {},
   "source": [
    "## Data"
   ]
  },
  {
   "cell_type": "markdown",
   "metadata": {},
   "source": [
    "I first web-scrapped the 23 great wards of Tokyo from Wikipedia wich includes a table with each ward, population, area and major districts. I then restricted the selection to the 8 biggest and most central wards and extracted the major district of each ward.\n",
    "\n",
    "I then used Fousquare and the Foursquare API to get location data of different venues. For our purposes, I will used the availble regular points to obtain location data and restricted the categoryId to be coffee shops, wich restricts the venue category to be either `cafe` or `coffee shop`. "
   ]
  },
  {
   "cell_type": "markdown",
   "metadata": {},
   "source": [
    "## Methodology"
   ]
  },
  {
   "cell_type": "markdown",
   "metadata": {},
   "source": [
    "The first step consisted of getting the necessary data from Wikipedia and the Foursquare API. After getting the 23 wards, I removed all but the biggest 8 wards in the list to simplify the problem at hand. \n",
    "\n",
    "The next step consisted of getting the location of the major district within the ward and the coordinates of the major district (by googling them). After some data processing, I had the necessary dataframe for creating a map using folium which shows the major districts. \n",
    "\n",
    "Once the location data was obtained, I used the location data to request the coffee shops around each district within a radius of 1000 meters. Fousquare has built-in method to request venues according to their categoryID, which I used to filter venues to be either in the category 'Cafe' or 'Coffee shop'. The result was then saved under the csv format just in case it would be needed at a later point in time.\n",
    "\n",
    "With the list of coffee shops in a dataframe, I first plotted all coffee shops on a folium map to make sure that the radius of the request is sufficient. After that, I did some exploration of the coffee shops by first grouping them by name and creating a barplot of the most common shops. This allows us to understand which shops are chain shops and which are unique.\n",
    "\n",
    "The next section gives us insight about which caffes appear most in each major district. This can be done by first grouping the cafes by their (name-) frequency in the dataset. Here, we can see which district has coffee-chains versus districts which are more likely to possess only unique shops. \n",
    "\n",
    "The last section is about clustering the districts by the most frequent cofe shops. For this, I first one-hot encoded the data and used a knn-algorithm to cluster the neighborhoods, with a hyperparamter of 5 neighbors. This allows us to understand how each district can be characterized with respect to its coffee shops. "
   ]
  },
  {
   "cell_type": "markdown",
   "metadata": {},
   "source": [
    "## Results"
   ]
  },
  {
   "cell_type": "markdown",
   "metadata": {},
   "source": [
    "### Getting the data"
   ]
  },
  {
   "cell_type": "markdown",
   "metadata": {},
   "source": [
    "From wikipedia, we can create the following pandas dataframe"
   ]
  },
  {
   "cell_type": "markdown",
   "metadata": {},
   "source": [
    "<img src=\"./figures/fig1.png\" alt=\"Drawing\" style=\"width: 700px;\"/>"
   ]
  },
  {
   "cell_type": "markdown",
   "metadata": {},
   "source": [
    "After some processing (removing the Kanji column and only retaining the biggest district in each ward), the longitude and the latitude of each major district was added to the dataframe to yield:"
   ]
  },
  {
   "cell_type": "markdown",
   "metadata": {},
   "source": [
    "<img src=\"./figures/fig2.png\" alt=\"Drawing\" style=\"width: 800px;\"/>"
   ]
  },
  {
   "cell_type": "markdown",
   "metadata": {},
   "source": [
    "All necessary data has been gathered at this point for plotting the hand-picked wards and their major district on a folium map which can be seen below"
   ]
  },
  {
   "cell_type": "markdown",
   "metadata": {},
   "source": [
    "![major districts](./figures/fig3.png)\n",
    "\n",
    "From the above map, we can see that the major districts are homogenously distributed over central Tokyo with the exception of Taito and Bunkyo-ku (upper right markers). This will allow us to get a widespread overview of the coffee shops in Tokyo."
   ]
  },
  {
   "cell_type": "markdown",
   "metadata": {},
   "source": [
    "The coordinates where then used to get the coffee shops using the Foursquare API. This leads to getting the following csv file containg information such as the venue, its coordinates and category"
   ]
  },
  {
   "cell_type": "markdown",
   "metadata": {},
   "source": [
    "![shops csv](./figures/fig4.png)"
   ]
  },
  {
   "cell_type": "markdown",
   "metadata": {},
   "source": [
    "Plotting the obtained venues according to their coordinates using folium leads to the following map:"
   ]
  },
  {
   "cell_type": "markdown",
   "metadata": {},
   "source": [
    "![shops map](./figures/fig5.png)"
   ]
  },
  {
   "cell_type": "markdown",
   "metadata": {},
   "source": [
    "We can already see that certain cafes are already spatialy separated from the rest on the bottom right corner (Odaiba district)."
   ]
  },
  {
   "cell_type": "markdown",
   "metadata": {},
   "source": [
    "### Most common cafes"
   ]
  },
  {
   "cell_type": "markdown",
   "metadata": {},
   "source": [
    "Frequency analysis of the cafe venues shows an interesting pattern in the top 10 venues:"
   ]
  },
  {
   "cell_type": "markdown",
   "metadata": {},
   "source": [
    "![frequency analysis](./figures/fig6.png)"
   ]
  },
  {
   "cell_type": "markdown",
   "metadata": {},
   "source": [
    "Interestinlgy, one company possess more venues (by approximately a factor 4) than any other competitor: Starbucks. This is really interesting because it already shows us that there is a strong player in the coffee-vending sector. Also interesting to note is that in the dataframe, one can see that approximately 600 venues are unique whilst 'only' 136 brands possess at least 2 venues. This demonstrates that **approximately 70% (not shown here, but 1-(136/449)) of the venues are actualy unique brands**."
   ]
  },
  {
   "cell_type": "markdown",
   "metadata": {},
   "source": [
    "We can also analyze out the most frequent coffee shops for each major district by first one-hot encoding the venues and select the five most common ones:"
   ]
  },
  {
   "cell_type": "markdown",
   "metadata": {},
   "source": [
    "<img src=\"./figures/fig7.png\" alt=\"Drawing\" style=\"width: 600px;\"/>"
   ]
  },
  {
   "cell_type": "markdown",
   "metadata": {},
   "source": [
    "To no surprise, Starbucks is the most frequent venue in each single major district. The rest of the list seems to  consist of different coffee shops depending on the district itself. For each district, the 10 most frequent venues are:"
   ]
  },
  {
   "cell_type": "markdown",
   "metadata": {},
   "source": [
    "<img src=\"./figures/fig8.png\" alt=\"Drawing\" style=\"width: 900px;\"/>"
   ]
  },
  {
   "cell_type": "markdown",
   "metadata": {},
   "source": [
    "## Clustering the neighborhoods\n"
   ]
  },
  {
   "cell_type": "markdown",
   "metadata": {},
   "source": [
    "After clustering the neighborhoods with the knn algorithm, we can visualize the results using folium"
   ]
  },
  {
   "cell_type": "markdown",
   "metadata": {},
   "source": [
    "<img src=\"./figures/fig9.png\" alt=\"Drawing\" style=\"width: 900px;\"/>"
   ]
  },
  {
   "cell_type": "markdown",
   "metadata": {},
   "source": [
    "Interestingly, the coffe shops are clustered according to their geographic location, which might point to the idea that each region presents a different mix of unique brands and chain stores. This insight is certainly helpful for a client with already a certain idea of what kind of coffee shop they would love to open."
   ]
  },
  {
   "cell_type": "markdown",
   "metadata": {},
   "source": [
    "## Conclusion"
   ]
  },
  {
   "cell_type": "markdown",
   "metadata": {},
   "source": [
    "In this study, we were able to gather data from the Foursquare API, perform data clean-up and analysis of the data in terms of coffee-shop frequency and neighborhood clustering based on the found coffe shop venues. "
   ]
  },
  {
   "cell_type": "markdown",
   "metadata": {},
   "source": [
    "The presented results can be understood as a first step of evaluating the potential of opening a new coffee shop venue. Further analysis, such as in individual style of the coffee shops and their differences might be necessary to achieve insights which can drive data-driven action taking.  "
   ]
  },
  {
   "cell_type": "markdown",
   "metadata": {},
   "source": [
    "We identified one major player, namely Starbucks, which indicates that this brand is popular amongst the citizens of Tokyo. More interestingly, we can see in this analysis that most coffee shops are unique, chain stores (brands with more than two stores) being the minority. This finding is important because it demonstrates that an entrepreuneur who wants to open a new brand of coffee shops is able to do so, albeit having already fierce competition. "
   ]
  },
  {
   "cell_type": "markdown",
   "metadata": {},
   "source": [
    "One important point that needs to be addressed is the completeness of the data available from the Foursquare API. From my personal experience of living in Tokyo, I know that the chain Dotour has more than four stores in the examined geographical areas. It seems that the Foursquare API strongly relies on users and business owners to generate the database from which we request data. The drawback of this is that not all existing venues are in the database, distorting the true venue numbers and distribution, therefore diminishing the meaning of any insight. In conclusion, we should be careful with the obtained data and make sure we understand the implicit biases of the manipulated data. "
   ]
  }
 ],
 "metadata": {
  "kernelspec": {
   "display_name": "Python 3",
   "language": "python",
   "name": "python3"
  },
  "language_info": {
   "codemirror_mode": {
    "name": "ipython",
    "version": 3
   },
   "file_extension": ".py",
   "mimetype": "text/x-python",
   "name": "python",
   "nbconvert_exporter": "python",
   "pygments_lexer": "ipython3",
   "version": "3.7.5"
  }
 },
 "nbformat": 4,
 "nbformat_minor": 2
}
